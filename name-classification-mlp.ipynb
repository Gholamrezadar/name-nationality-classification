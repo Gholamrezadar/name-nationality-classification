{
 "cells": [
  {
   "cell_type": "markdown",
   "metadata": {},
   "source": [
    "## imports"
   ]
  },
  {
   "cell_type": "code",
   "execution_count": 10,
   "metadata": {},
   "outputs": [],
   "source": [
    "import os\n",
    "\n",
    "import matplotlib.pyplot as plt\n",
    "import seaborn as sns; sns.set_theme('notebook')\n",
    "import numpy as np \n",
    "\n",
    "import torch\n",
    "import torch.nn as nn\n",
    "import torch.nn.functional as F\n"
   ]
  },
  {
   "cell_type": "code",
   "execution_count": 2,
   "metadata": {},
   "outputs": [],
   "source": [
    "# Hyperparams\n",
    "EPOCHS = 10\n",
    "BATCH_SIZE = 64"
   ]
  },
  {
   "cell_type": "code",
   "execution_count": 3,
   "metadata": {},
   "outputs": [],
   "source": [
    "# download data\n",
    "# !wget https://download.pytorch.org/tutorial/data.zip \n",
    "# !unzip data.zip"
   ]
  },
  {
   "cell_type": "markdown",
   "metadata": {},
   "source": [
    "## Load data"
   ]
  },
  {
   "cell_type": "code",
   "execution_count": 4,
   "metadata": {},
   "outputs": [],
   "source": [
    "class NamesDataset(torch.utils.data.Dataset):\n",
    "    def __init__(self, root_dir='data/names', min_count=None):\n",
    "        self.root_dir = root_dir\n",
    "        self.files_list = os.listdir(root_dir)\n",
    "        self.data = []\n",
    "        self.labels = []\n",
    "        self.idx_to_class = {i: file.split('.')[0] for i, file in enumerate(self.files_list)}\n",
    "        for i, file in enumerate(self.files_list):\n",
    "            with open(f'{root_dir}/{file}', 'r', encoding='utf-8') as f:\n",
    "                for line in f:\n",
    "                    self.data.append(line.strip())\n",
    "                    self.labels.append(i)\n",
    "        self.labels = self.labels\n",
    "\n",
    "        if min_count:\n",
    "            self.data, self.labels = self._filter(min_count)\n",
    "    \n",
    "    def _filter(self, min_count):\n",
    "        labels, counts = np.unique(self.labels, return_counts=True)\n",
    "\n",
    "        filtered_classes = labels[counts >= min_count]\n",
    "\n",
    "        # only keep min_count samples from each class\n",
    "        filtered_data = []\n",
    "        filtered_labels = []\n",
    "        for c in filtered_classes:\n",
    "            filtered_data.extend([d for d, l in zip(self.data, self.labels) if l == c][:min_count])\n",
    "            filtered_labels.extend([c] * min_count)\n",
    "\n",
    "        print(f'Only kept {min_count} samples from each class.')\n",
    "        print(f'Remaining classes: {[self.idx_to_class[label] for label in np.unique(filtered_labels)]}')\n",
    "        \n",
    "        return filtered_data, filtered_labels\n",
    "        \n",
    "    def __len__(self):\n",
    "        return len(self.data)\n",
    "    \n",
    "    def __getitem__(self, idx):\n",
    "        return self.data[idx], self.labels[idx]"
   ]
  },
  {
   "cell_type": "code",
   "execution_count": 5,
   "metadata": {},
   "outputs": [
    {
     "name": "stdout",
     "output_type": "stream",
     "text": [
      "Only kept 700 samples from each class.\n",
      "Remaining classes: ['Arabic', 'English', 'German', 'Italian', 'Japanese', 'Russian']\n",
      "Dataset Loaded with 4,200 samples\n",
      "Train: 3,360 samples\n",
      "Valid: 840 samples\n"
     ]
    }
   ],
   "source": [
    "# Load dataset\n",
    "dataset = NamesDataset(min_count=700)\n",
    "print(f\"Dataset Loaded with {len(dataset):,} samples\")\n",
    "\n",
    "# Train valid split\n",
    "train_dataset, valid_dataset = torch.utils.data.random_split(dataset, [0.8, 0.2])\n",
    "print(f\"Train: {len(train_dataset):,} samples\\nValid: {len(valid_dataset):,} samples\")"
   ]
  },
  {
   "cell_type": "code",
   "execution_count": 40,
   "metadata": {},
   "outputs": [
    {
     "name": "stdout",
     "output_type": "stream",
     "text": [
      "Number of classes: 6\n"
     ]
    }
   ],
   "source": [
    "num_classes = len(set(dataset.labels))\n",
    "print(f'Number of classes: {num_classes}')"
   ]
  },
  {
   "cell_type": "code",
   "execution_count": 6,
   "metadata": {},
   "outputs": [
    {
     "data": {
      "image/png": "[encoded data removed]",
      "text/plain": [
       "<Figure size 640x480 with 1 Axes>"
      ]
     },
     "metadata": {},
     "output_type": "display_data"
    }
   ],
   "source": [
    "labels, counts = np.unique(dataset.labels, return_counts=True)\n",
    "max_y = max(counts)\n",
    "# Bar plot\n",
    "plt.title('Language Distribution')\n",
    "plt.bar(labels, counts)\n",
    "plt.xticks(labels, [dataset.idx_to_class[i] for i in labels], rotation=90)\n",
    "\n",
    "# Add counts on top of the bars\n",
    "for i, count in zip(labels, counts):\n",
    "    plt.text(i, count+0.01*max_y, str(count), ha='center', va='bottom', rotation=90)\n",
    "\n",
    "# add some padding to the top\n",
    "plt.ylim(0, int(max_y*1.2))\n",
    "\n",
    "plt.grid(False)\n",
    "plt.show()\n"
   ]
  },
  {
   "cell_type": "code",
   "execution_count": 7,
   "metadata": {},
   "outputs": [],
   "source": [
    "# Dataloader\n",
    "train_loader = torch.utils.data.DataLoader(train_dataset, batch_size=BATCH_SIZE, shuffle=True)\n",
    "valid_loader = torch.utils.data.DataLoader(valid_dataset, batch_size=BATCH_SIZE, shuffle=False)"
   ]
  },
  {
   "cell_type": "code",
   "execution_count": 8,
   "metadata": {},
   "outputs": [
    {
     "name": "stdout",
     "output_type": "stream",
     "text": [
      "Adjemov: Russian\n",
      "Asom: English\n",
      "Najjar: Arabic\n",
      "Allsop: English\n",
      "Mustafa: Arabic\n",
      "Siskin: German\n",
      "Hishikawa: Japanese\n",
      "Bentley: English\n",
      "Fabbri: Italian\n",
      "Boerio: Italian\n"
     ]
    }
   ],
   "source": [
    "# display a batch\n",
    "data, labels = next(iter(train_loader))\n",
    "for i in range(min(10, len(data))):\n",
    "    print(f\"{data[i]}: {dataset.idx_to_class[labels[i].item()]}\")"
   ]
  },
  {
   "cell_type": "markdown",
   "metadata": {},
   "source": [
    "### Vocab"
   ]
  },
  {
   "cell_type": "code",
   "execution_count": 38,
   "metadata": {},
   "outputs": [
    {
     "name": "stdout",
     "output_type": "stream",
     "text": [
      "Vocab: '-ABCDEFGHIJKLMNOPQRSTUVWZabcdefghijklmnopqrstuvwxyzßàäèéìòóöùü\n",
      "Max name length: 18\n"
     ]
    }
   ],
   "source": [
    "def create_vocab(dataset):\n",
    "    vocab = set()\n",
    "    max_name_length = 0\n",
    "    for name, label in dataset:\n",
    "        max_name_length = max(max_name_length, len(name))\n",
    "        for ch in name:\n",
    "            vocab.add(ch)\n",
    "    vocab = sorted(list(vocab))\n",
    "    return vocab, max_name_length\n",
    "\n",
    "vocab, max_name_length = create_vocab(dataset)\n",
    "\n",
    "# print the vocab\n",
    "print(\"Vocab:\", end=\"\")\n",
    "for ch in vocab:\n",
    "    print(ch, end=\"\")\n",
    "print()\n",
    "print(\"Max name length:\", max_name_length)"
   ]
  },
  {
   "cell_type": "markdown",
   "metadata": {},
   "source": [
    "### Conversion functions"
   ]
  },
  {
   "cell_type": "code",
   "execution_count": 39,
   "metadata": {},
   "outputs": [],
   "source": [
    "def char_to_id(ch, vocab=vocab):\n",
    "    return vocab.index(ch)\n",
    "\n",
    "def id_to_char(id, vocab=vocab):\n",
    "    return vocab[id]"
   ]
  },
  {
   "cell_type": "code",
   "execution_count": 134,
   "metadata": {},
   "outputs": [],
   "source": [
    "# convert dataset to tensor\n",
    "def name_to_tensor(name, max_name_length=max_name_length, vocab=vocab):\n",
    "    tensor = torch.zeros(max_name_length, dtype=torch.long)\n",
    "    for i, ch in enumerate(name):\n",
    "        tensor[i] = char_to_id(ch)\n",
    "    return tensor\n",
    "\n",
    "def tensor_to_name(tensor, vocab=vocab):\n",
    "    name = \"\"\n",
    "    for i in tensor:\n",
    "        name += id_to_char(i)\n",
    "    return name"
   ]
  },
  {
   "cell_type": "code",
   "execution_count": 135,
   "metadata": {},
   "outputs": [
    {
     "data": {
      "text/plain": [
       "6"
      ]
     },
     "execution_count": 135,
     "metadata": {},
     "output_type": "execute_result"
    }
   ],
   "source": [
    "num_classes"
   ]
  },
  {
   "cell_type": "code",
   "execution_count": 145,
   "metadata": {},
   "outputs": [
    {
     "data": {
      "text/plain": [
       "torch.Size([2, 5, 3])"
      ]
     },
     "execution_count": 145,
     "metadata": {},
     "output_type": "execute_result"
    }
   ],
   "source": [
    "nn.Embedding(len(vocab), 3)(torch.tensor([[0, 1, 2, 3, 4],[5,6,7,8,9]])).shape"
   ]
  },
  {
   "cell_type": "code",
   "execution_count": 252,
   "metadata": {},
   "outputs": [],
   "source": [
    "# create a model\n",
    "device = torch.device('cuda' if torch.cuda.is_available() else 'cpu')\n",
    "\n",
    "class MLP(nn.Module):\n",
    "    def __init__(self, num_classes=num_classes) -> None:\n",
    "        super().__init__()\n",
    "        self.emb = nn.Embedding(len(vocab), 32)\n",
    "        self.fc1 = nn.Linear(max_name_length*32, 128)\n",
    "        self.fc2 = nn.Linear(128, 15)\n",
    "\n",
    "    def forward(self, x):\n",
    "        x = self.emb(x)\n",
    "        x = x.flatten(1)\n",
    "        x = F.relu(self.fc1(x))\n",
    "        x = self.fc2(x)\n",
    "        return x"
   ]
  },
  {
   "cell_type": "code",
   "execution_count": 296,
   "metadata": {},
   "outputs": [
    {
     "data": {
      "text/plain": [
       "18.0"
      ]
     },
     "execution_count": 296,
     "metadata": {},
     "output_type": "execute_result"
    }
   ],
   "source": [
    "a = torch.zeros(len(vocab), 32)\n",
    "576/32"
   ]
  },
  {
   "cell_type": "code",
   "execution_count": 253,
   "metadata": {},
   "outputs": [],
   "source": [
    "def train(model, train_loader, device, epoch, optimizer, print_every=100):\n",
    "    loss_function = nn.CrossEntropyLoss()\n",
    "    model.train()\n",
    "    total_loss = 0\n",
    "    for i, (X, y) in enumerate(train_loader):\n",
    "        X = torch.cat([name_to_tensor(name) for name in X])\n",
    "        X = X.reshape(-1, max_name_length)\n",
    "        X, y = X.to(device), y.to(device)\n",
    "        y = y.long()\n",
    "        optimizer.zero_grad()\n",
    "        y_pred = model(X)\n",
    "        loss = loss_function(y_pred, y)\n",
    "        loss.backward()\n",
    "        optimizer.step()\n",
    "        total_loss += loss.item()\n",
    "\n",
    "        # if i % print_every == 0:\n",
    "        #     print(f'Epoch {epoch}, Batch {i}/{len(train_loader)}, Loss: {loss.detach().cpu().item()}')\n",
    "    \n",
    "    train_accuracy = evaluate(model, train_loader, device)\n",
    "    return train_accuracy, total_loss / len(train_loader)\n",
    "\n",
    "def evaluate(model, valid_loader, device):\n",
    "    model.eval()\n",
    "    correct = 0\n",
    "    total = 0\n",
    "    with torch.no_grad():\n",
    "        for X, y in valid_loader:\n",
    "            X = torch.cat([name_to_tensor(name) for name in X])\n",
    "            X = X.reshape(-1, max_name_length)\n",
    "            X, y = X.to(device), y.to(device)\n",
    "            y = y.long()\n",
    "            y_pred = model(X)\n",
    "            _, predicted = torch.max(y_pred.data, 1)\n",
    "            total += y.size(0)\n",
    "            correct += (predicted == y).sum().item()\n",
    "\n",
    "    # print(f'Accuracy: {correct/total:.2f} ({correct}/{total})')\n",
    "    return correct / total"
   ]
  },
  {
   "cell_type": "markdown",
   "metadata": {},
   "source": [
    "## Training"
   ]
  },
  {
   "cell_type": "code",
   "execution_count": 284,
   "metadata": {},
   "outputs": [],
   "source": [
    "model = MLP(num_classes=num_classes).to(device)\n",
    "train_loss_history = []\n",
    "train_accuracy_history = []\n",
    "valid_accuracy_history = []"
   ]
  },
  {
   "cell_type": "code",
   "execution_count": 285,
   "metadata": {},
   "outputs": [
    {
     "name": "stdout",
     "output_type": "stream",
     "text": [
      "Training...\n",
      "epoch: 0, train_loss: 1.3397, train_acc: 0.6485, val_acc: 0.6417\n",
      "epoch: 1, train_loss: 0.8202, train_acc: 0.7530, val_acc: 0.7131\n",
      "epoch: 2, train_loss: 0.6530, train_acc: 0.7940, val_acc: 0.7512\n",
      "epoch: 3, train_loss: 0.5639, train_acc: 0.8208, val_acc: 0.7786\n",
      "epoch: 4, train_loss: 0.4925, train_acc: 0.8423, val_acc: 0.7845\n",
      "epoch: 5, train_loss: 0.4425, train_acc: 0.8717, val_acc: 0.8107\n",
      "epoch: 6, train_loss: 0.3982, train_acc: 0.8586, val_acc: 0.8119\n",
      "epoch: 7, train_loss: 0.3754, train_acc: 0.8949, val_acc: 0.8345\n",
      "epoch: 8, train_loss: 0.3440, train_acc: 0.8955, val_acc: 0.8310\n",
      "epoch: 9, train_loss: 0.3132, train_acc: 0.9060, val_acc: 0.8310\n",
      "epoch: 10, train_loss: 0.2875, train_acc: 0.9170, val_acc: 0.8393\n",
      "epoch: 11, train_loss: 0.2748, train_acc: 0.9071, val_acc: 0.8381\n",
      "epoch: 12, train_loss: 0.2565, train_acc: 0.9360, val_acc: 0.8571\n",
      "epoch: 13, train_loss: 0.2243, train_acc: 0.9396, val_acc: 0.8560\n",
      "epoch: 14, train_loss: 0.2206, train_acc: 0.9455, val_acc: 0.8595\n",
      "epoch: 15, train_loss: 0.2011, train_acc: 0.9536, val_acc: 0.8726\n",
      "epoch: 16, train_loss: 0.1829, train_acc: 0.9318, val_acc: 0.8429\n",
      "epoch: 17, train_loss: 0.1772, train_acc: 0.9500, val_acc: 0.8655\n",
      "epoch: 18, train_loss: 0.1576, train_acc: 0.9512, val_acc: 0.8702\n",
      "epoch: 19, train_loss: 0.1551, train_acc: 0.9539, val_acc: 0.8690\n",
      "epoch: 20, train_loss: 0.1455, train_acc: 0.9568, val_acc: 0.8548\n",
      "epoch: 21, train_loss: 0.1349, train_acc: 0.9705, val_acc: 0.8762\n",
      "epoch: 22, train_loss: 0.1238, train_acc: 0.9723, val_acc: 0.8714\n",
      "epoch: 23, train_loss: 0.1256, train_acc: 0.9693, val_acc: 0.8786\n",
      "epoch: 24, train_loss: 0.1186, train_acc: 0.9661, val_acc: 0.8714\n",
      "epoch: 25, train_loss: 0.1063, train_acc: 0.9717, val_acc: 0.8702\n",
      "epoch: 26, train_loss: 0.1035, train_acc: 0.9732, val_acc: 0.8643\n",
      "epoch: 27, train_loss: 0.1005, train_acc: 0.9723, val_acc: 0.8595\n",
      "epoch: 28, train_loss: 0.0921, train_acc: 0.9824, val_acc: 0.8738\n",
      "epoch: 29, train_loss: 0.0851, train_acc: 0.9824, val_acc: 0.8774\n",
      "epoch: 30, train_loss: 0.0876, train_acc: 0.9744, val_acc: 0.8738\n",
      "epoch: 31, train_loss: 0.0766, train_acc: 0.9860, val_acc: 0.8798\n",
      "epoch: 32, train_loss: 0.0747, train_acc: 0.9827, val_acc: 0.8845\n",
      "epoch: 33, train_loss: 0.0685, train_acc: 0.9866, val_acc: 0.8821\n",
      "epoch: 34, train_loss: 0.0674, train_acc: 0.9893, val_acc: 0.8821\n",
      "epoch: 35, train_loss: 0.0623, train_acc: 0.9869, val_acc: 0.8810\n",
      "epoch: 36, train_loss: 0.0590, train_acc: 0.9884, val_acc: 0.8786\n",
      "epoch: 37, train_loss: 0.0594, train_acc: 0.9893, val_acc: 0.8738\n",
      "epoch: 38, train_loss: 0.0536, train_acc: 0.9890, val_acc: 0.8762\n",
      "epoch: 39, train_loss: 0.0509, train_acc: 0.9908, val_acc: 0.8798\n",
      "epoch: 40, train_loss: 0.0549, train_acc: 0.9893, val_acc: 0.8702\n",
      "epoch: 41, train_loss: 0.0588, train_acc: 0.9860, val_acc: 0.8595\n",
      "epoch: 42, train_loss: 0.0550, train_acc: 0.9923, val_acc: 0.8857\n",
      "epoch: 43, train_loss: 0.0487, train_acc: 0.9920, val_acc: 0.8798\n",
      "epoch: 44, train_loss: 0.0471, train_acc: 0.9911, val_acc: 0.8869\n",
      "epoch: 45, train_loss: 0.0425, train_acc: 0.9932, val_acc: 0.8667\n",
      "epoch: 46, train_loss: 0.0435, train_acc: 0.9890, val_acc: 0.8714\n",
      "epoch: 47, train_loss: 0.0396, train_acc: 0.9902, val_acc: 0.8774\n",
      "epoch: 48, train_loss: 0.0397, train_acc: 0.9940, val_acc: 0.8810\n",
      "epoch: 49, train_loss: 0.0430, train_acc: 0.9932, val_acc: 0.8798\n",
      "epoch: 50, train_loss: 0.0355, train_acc: 0.9917, val_acc: 0.8798\n",
      "epoch: 51, train_loss: 0.0342, train_acc: 0.9920, val_acc: 0.8714\n",
      "epoch: 52, train_loss: 0.0373, train_acc: 0.9890, val_acc: 0.8726\n",
      "epoch: 53, train_loss: 0.0424, train_acc: 0.9949, val_acc: 0.8798\n",
      "epoch: 54, train_loss: 0.0306, train_acc: 0.9940, val_acc: 0.8738\n",
      "epoch: 55, train_loss: 0.0305, train_acc: 0.9923, val_acc: 0.8690\n",
      "epoch: 56, train_loss: 0.0289, train_acc: 0.9943, val_acc: 0.8762\n",
      "epoch: 57, train_loss: 0.0320, train_acc: 0.9905, val_acc: 0.8667\n",
      "epoch: 58, train_loss: 0.0313, train_acc: 0.9949, val_acc: 0.8714\n",
      "epoch: 59, train_loss: 0.0323, train_acc: 0.9949, val_acc: 0.8833\n",
      "epoch: 60, train_loss: 0.0334, train_acc: 0.9938, val_acc: 0.8738\n",
      "epoch: 61, train_loss: 0.0378, train_acc: 0.9940, val_acc: 0.8762\n",
      "epoch: 62, train_loss: 0.0262, train_acc: 0.9938, val_acc: 0.8667\n",
      "epoch: 63, train_loss: 0.0257, train_acc: 0.9935, val_acc: 0.8810\n",
      "epoch: 64, train_loss: 0.0269, train_acc: 0.9955, val_acc: 0.8810\n",
      "epoch: 65, train_loss: 0.0301, train_acc: 0.9946, val_acc: 0.8738\n",
      "epoch: 66, train_loss: 0.0302, train_acc: 0.9955, val_acc: 0.8750\n",
      "epoch: 67, train_loss: 0.0232, train_acc: 0.9958, val_acc: 0.8798\n",
      "epoch: 68, train_loss: 0.0227, train_acc: 0.9958, val_acc: 0.8738\n",
      "epoch: 69, train_loss: 0.0249, train_acc: 0.9949, val_acc: 0.8714\n",
      "epoch: 70, train_loss: 0.0239, train_acc: 0.9949, val_acc: 0.8750\n",
      "epoch: 71, train_loss: 0.0229, train_acc: 0.9958, val_acc: 0.8786\n",
      "epoch: 72, train_loss: 0.0277, train_acc: 0.9946, val_acc: 0.8750\n",
      "epoch: 73, train_loss: 0.0278, train_acc: 0.9952, val_acc: 0.8821\n",
      "epoch: 74, train_loss: 0.0243, train_acc: 0.9893, val_acc: 0.8655\n",
      "epoch: 75, train_loss: 0.0293, train_acc: 0.9917, val_acc: 0.8655\n",
      "epoch: 76, train_loss: 0.0273, train_acc: 0.9923, val_acc: 0.8667\n",
      "epoch: 77, train_loss: 0.0288, train_acc: 0.9955, val_acc: 0.8762\n",
      "epoch: 78, train_loss: 0.0242, train_acc: 0.9949, val_acc: 0.8738\n",
      "epoch: 79, train_loss: 0.0249, train_acc: 0.9958, val_acc: 0.8786\n",
      "epoch: 80, train_loss: 0.0244, train_acc: 0.9958, val_acc: 0.8726\n",
      "epoch: 81, train_loss: 0.0207, train_acc: 0.9955, val_acc: 0.8810\n",
      "epoch: 82, train_loss: 0.0226, train_acc: 0.9958, val_acc: 0.8726\n",
      "epoch: 83, train_loss: 0.0210, train_acc: 0.9955, val_acc: 0.8762\n",
      "epoch: 84, train_loss: 0.0258, train_acc: 0.9958, val_acc: 0.8750\n",
      "epoch: 85, train_loss: 0.0272, train_acc: 0.9946, val_acc: 0.8667\n",
      "epoch: 86, train_loss: 0.0246, train_acc: 0.9958, val_acc: 0.8738\n",
      "epoch: 87, train_loss: 0.0247, train_acc: 0.9958, val_acc: 0.8690\n",
      "epoch: 88, train_loss: 0.0254, train_acc: 0.9958, val_acc: 0.8798\n",
      "epoch: 89, train_loss: 0.0278, train_acc: 0.9908, val_acc: 0.8738\n",
      "epoch: 90, train_loss: 0.0248, train_acc: 0.9958, val_acc: 0.8750\n",
      "epoch: 91, train_loss: 0.0223, train_acc: 0.9958, val_acc: 0.8726\n",
      "epoch: 92, train_loss: 0.0236, train_acc: 0.9854, val_acc: 0.8595\n",
      "epoch: 93, train_loss: 0.0264, train_acc: 0.9958, val_acc: 0.8774\n",
      "epoch: 94, train_loss: 0.0228, train_acc: 0.9955, val_acc: 0.8774\n",
      "epoch: 95, train_loss: 0.0245, train_acc: 0.9958, val_acc: 0.8833\n",
      "epoch: 96, train_loss: 0.0205, train_acc: 0.9940, val_acc: 0.8714\n",
      "epoch: 97, train_loss: 0.0192, train_acc: 0.9949, val_acc: 0.8774\n",
      "epoch: 98, train_loss: 0.0258, train_acc: 0.9946, val_acc: 0.8786\n",
      "epoch: 99, train_loss: 0.0205, train_acc: 0.9943, val_acc: 0.8857\n"
     ]
    }
   ],
   "source": [
    "\n",
    "optimizer = torch.optim.Adam(model.parameters(), lr=0.001)\n",
    "\n",
    "# Training loop\n",
    "EPOCHS = 100\n",
    "print('Training...')\n",
    "for epoch in range(EPOCHS):\n",
    "    train_acc, train_loss = train(model, train_loader, device, epoch, optimizer, print_every=100)\n",
    "    val_acc = evaluate(model, valid_loader, device)\n",
    "\n",
    "    # save history\n",
    "    train_loss_history.append(train_loss)\n",
    "    train_accuracy_history.append(train_acc)\n",
    "    valid_accuracy_history.append(val_acc)\n",
    "\n",
    "    # print stats\n",
    "    print(f\"epoch: {epoch}, train_loss: {train_loss:.4f}, train_acc: {train_acc:.4f}, val_acc: {val_acc:.4f}\")\n"
   ]
  },
  {
   "cell_type": "code",
   "execution_count": 320,
   "metadata": {},
   "outputs": [
    {
     "name": "stdout",
     "output_type": "stream",
     "text": [
      "Train acc:\n",
      "0.9943452380952381\n",
      "Test acc:\n",
      "0.8857142857142857\n"
     ]
    }
   ],
   "source": [
    "print(\"Train acc:\")\n",
    "print(evaluate(model, train_loader, device))\n",
    "print(\"Test acc:\")\n",
    "print(evaluate(model, valid_loader, device))"
   ]
  },
  {
   "cell_type": "markdown",
   "metadata": {},
   "source": [
    "## Training History"
   ]
  },
  {
   "cell_type": "code",
   "execution_count": 288,
   "metadata": {},
   "outputs": [
    {
     "data": {
      "image/png": "[encoded data removed]",
      "text/plain": [
       "<Figure size 1500x500 with 1 Axes>"
      ]
     },
     "metadata": {},
     "output_type": "display_data"
    }
   ],
   "source": [
    "# Plot the history\n",
    "plt.figure(figsize=(15, 5))\n",
    "plt.subplot(1, 2, 1)\n",
    "plt.title('MLP Training History')\n",
    "plt.plot(train_loss_history, label='Train Loss')\n",
    "plt.plot(train_accuracy_history, label='Train Accuracy')\n",
    "plt.plot(valid_accuracy_history, label='Valid Accuracy')\n",
    "plt.legend()\n",
    "plt.xlabel('Epoch')\n",
    "plt.ylabel('Loss')\n",
    "plt.grid(True)"
   ]
  },
  {
   "cell_type": "markdown",
   "metadata": {},
   "source": [
    "## Classification reports"
   ]
  },
  {
   "cell_type": "code",
   "execution_count": 322,
   "metadata": {},
   "outputs": [
    {
     "name": "stdout",
     "output_type": "stream",
     "text": [
      "              precision    recall  f1-score   support\n",
      "\n",
      "      Arabic       0.95      0.97      0.96       148\n",
      "     English       0.87      0.78      0.82       132\n",
      "      German       0.86      0.85      0.85       150\n",
      "     Italian       0.83      0.83      0.83       124\n",
      "    Japanese       0.93      0.92      0.92       154\n",
      "     Russian       0.86      0.95      0.90       132\n",
      "\n",
      "    accuracy                           0.89       840\n",
      "   macro avg       0.88      0.88      0.88       840\n",
      "weighted avg       0.89      0.89      0.88       840\n",
      "\n"
     ]
    }
   ],
   "source": [
    "# confusion matrix and classification report\n",
    "from sklearn.metrics import confusion_matrix, classification_report\n",
    "import pandas as pd\n",
    "\n",
    "model.eval()\n",
    "y_true = []\n",
    "y_pred = []\n",
    "\n",
    "with torch.no_grad():\n",
    "    for X, y in valid_loader:\n",
    "        X = torch.cat([name_to_tensor(name) for name in X])\n",
    "        X = X.reshape(-1, max_name_length)\n",
    "        X, y = X.to(device), y.to(device)\n",
    "        y = y.long()\n",
    "        y_pred.extend(model(X).argmax(dim=1).cpu().numpy())\n",
    "        y_true.extend(y.cpu().numpy())\n",
    "\n",
    "y_true = [dataset.idx_to_class[i] for i in y_true]\n",
    "y_pred = [dataset.idx_to_class[i] for i in y_pred]\n",
    "\n",
    "print(classification_report(y_true, y_pred))"
   ]
  },
  {
   "cell_type": "code",
   "execution_count": 323,
   "metadata": {},
   "outputs": [
    {
     "name": "stdout",
     "output_type": "stream",
     "text": [
      "Arabic: 151\n",
      "English: 119\n",
      "German: 148\n",
      "Italian: 124\n",
      "Japanese: 151\n",
      "Russian: 147\n"
     ]
    }
   ],
   "source": [
    "i,j = np.unique(np.array(y_pred), return_counts=True)\n",
    "for i, j in zip(i,j):\n",
    "    print(f'{i}: {j}')"
   ]
  },
  {
   "cell_type": "markdown",
   "metadata": {},
   "source": [
    "## Confusion Matrix"
   ]
  },
  {
   "cell_type": "code",
   "execution_count": 324,
   "metadata": {},
   "outputs": [
    {
     "data": {
      "text/plain": [
       "'Chinese'"
      ]
     },
     "execution_count": 324,
     "metadata": {},
     "output_type": "execute_result"
    }
   ],
   "source": [
    "dataset.idx_to_class[1]"
   ]
  },
  {
   "cell_type": "code",
   "execution_count": 325,
   "metadata": {},
   "outputs": [
    {
     "data": {
      "text/plain": [
       "array(['Arabic', 'English', 'German', 'Italian', 'Japanese', 'Russian'],\n",
       "      dtype='<U8')"
      ]
     },
     "execution_count": 325,
     "metadata": {},
     "output_type": "execute_result"
    }
   ],
   "source": [
    "y_true[0], y_pred[0]\n",
    "xtick_labels = np.unique(y_true)\n",
    "xtick_labels"
   ]
  },
  {
   "cell_type": "code",
   "execution_count": 326,
   "metadata": {},
   "outputs": [
    {
     "data": {
      "image/png": "[encoded data removed]",
      "text/plain": [
       "<Figure size 1000x1000 with 2 Axes>"
      ]
     },
     "metadata": {},
     "output_type": "display_data"
    }
   ],
   "source": [
    "# confusion matrix\n",
    "cm = confusion_matrix(y_true, y_pred)\n",
    "# cm = cm / cm.sum(axis=1)[:, np.newaxis]\n",
    "plt.figure(figsize=(10, 10))\n",
    "# write numbers not in scientific notation\n",
    "sns.heatmap(cm, annot=True, fmt='d', xticklabels=xtick_labels, yticklabels=xtick_labels)\n",
    "plt.xlabel('Predicted')\n",
    "plt.ylabel('True')\n",
    "plt.title('Confusion Matrix')\n",
    "plt.show()\n"
   ]
  },
  {
   "cell_type": "markdown",
   "metadata": {},
   "source": [
    "## Print a few predictions (Sanity Check)"
   ]
  },
  {
   "cell_type": "code",
   "execution_count": 302,
   "metadata": {},
   "outputs": [
    {
     "name": "stdout",
     "output_type": "stream",
     "text": [
      "Arena              | Italian | Italian \n",
      "Okita              | Japanese | Japanese \n",
      "Pesce              | Italian | Italian \n",
      "Button             | English | English \n",
      "Glöckner           | German | German \n",
      "Barlow             | English | English \n",
      "Ichisada           | Japanese | Japanese \n",
      "Hayakawa           | Japanese | Japanese \n",
      "Devaney            | English | English \n",
      "Ableukhov          | Russian | Russian \n",
      "Ghanem             | Arabic | Arabic \n",
      "Adkins             | English | Russian ❌\n",
      "Segreti            | Italian | Italian \n",
      "Essa               | Arabic | Arabic \n",
      "Aloia              | Italian | Japanese ❌\n",
      "Brelsford          | English | English \n",
      "Falkenrath         | German | German \n",
      "Adenauer           | German | Russian ❌\n",
      "Ghannam            | Arabic | Arabic \n",
      "Aylward            | English | English \n",
      "Agaponov           | Russian | Russian \n",
      "Ferrara            | Italian | Italian \n",
      "Kaibara            | Japanese | Japanese \n",
      "Langer             | German | German \n",
      "Nagano             | Japanese | Japanese \n",
      "Locatelli          | Italian | Italian \n",
      "Rahal              | Arabic | Arabic \n",
      "Abramovsky         | Russian | Russian \n",
      "Kaufman            | German | German \n",
      "Poggio             | Italian | Italian \n",
      "Shalhoub           | Arabic | Arabic \n",
      "Ghanem             | Arabic | Arabic \n",
      "Walkenhorst        | German | German \n",
      "Von wegberg        | German | German \n",
      "Schuler            | German | German \n",
      "Assaf              | Arabic | Arabic \n",
      "Natsume            | Japanese | Japanese \n",
      "Kleid              | German | German \n",
      "Belluomi           | Italian | Italian \n",
      "Haddad             | Arabic | Arabic \n",
      "Dardenne           | English | German ❌\n",
      "Dixon              | English | English \n",
      "Käufer             | German | German \n",
      "Boutros            | Arabic | Arabic \n",
      "Okanao             | Japanese | Japanese \n",
      "Abubakirov         | Russian | Russian \n",
      "Aquila             | Italian | Italian \n",
      "Tannous            | Arabic | Arabic \n",
      "Abdrakhmanov       | Russian | Russian \n",
      "Hirasi             | Japanese | Japanese \n",
      "Schroeter          | German | German \n",
      "Andreli            | Russian | Russian \n",
      "Maria              | Italian | Italian \n",
      "Van tonder         | German | German \n",
      "Agenosov           | Russian | Russian \n",
      "Onishi             | Japanese | Japanese \n",
      "Colley             | English | English \n",
      "Doi                | Japanese | Japanese \n",
      "Baldini            | Italian | Italian \n",
      "Asker              | Arabic | Arabic \n",
      "Amari              | Arabic | Arabic \n",
      "Fermi              | Italian | Italian \n",
      "Harb               | Arabic | Arabic \n",
      "Adadurov           | Russian | Russian \n",
      "Auttenberg         | German | German \n",
      "Brennan            | English | English \n",
      "Frost              | German | German \n",
      "Crisp              | English | English \n",
      "Basile             | Italian | English ❌\n",
      "Atiyeh             | Arabic | Arabic \n",
      "Butcher            | English | German ❌\n",
      "Amari              | Arabic | Arabic \n",
      "Alberici           | Italian | Italian \n",
      "Beattie            | English | Italian ❌\n",
      "Abramovitch        | Russian | Russian \n",
      "Bishara            | Arabic | Arabic \n",
      "Asghar             | Arabic | Arabic \n",
      "Cornish            | English | English \n",
      "Onohara            | Japanese | Japanese \n",
      "Aboimov            | Russian | Russian \n",
      "Vescovi            | Italian | Italian \n",
      "Nervetti           | Italian | Italian \n",
      "Brune              | German | German \n",
      "Bachmeier          | German | German \n",
      "Admakin            | Russian | Russian \n",
      "Agar               | English | Russian ❌\n",
      "Flater             | German | German \n",
      "Kalb               | Arabic | German ❌\n",
      "Cham               | Arabic | Arabic \n",
      "Agulian            | Russian | Russian \n",
      "Altimari           | Italian | Italian \n",
      "Gerhard            | German | German \n",
      "Nader              | Arabic | Arabic \n",
      "Shadid             | Arabic | Arabic \n",
      "Futabatei          | Japanese | Japanese \n",
      "Aswad              | Arabic | Arabic \n",
      "Churchill          | English | English \n",
      "Koury              | Arabic | Arabic \n",
      "Leggièri           | Italian | Italian \n",
      "Buxton             | English | English \n",
      "Biermann           | German | German \n",
      "Antyuganov         | Russian | Russian \n",
      "Arthur             | English | English \n",
      "Enoki              | Japanese | Japanese \n",
      "Veronesi           | Italian | Italian \n",
      "Kaspar             | German | Arabic ❌\n",
      "Abdulazizov        | Russian | Russian \n",
      "Nishimura          | Japanese | Japanese \n",
      "Blackmore          | English | English \n",
      "Scordato           | Italian | Italian \n",
      "Graner             | German | German \n",
      "Alunni             | Italian | Russian ❌\n",
      "Atvilov            | Russian | Russian \n",
      "Barr               | English | English \n",
      "Raneri             | Italian | Italian \n",
      "Roth               | German | German \n",
      "Pavesi             | Italian | Italian \n",
      "Bishara            | Arabic | Arabic \n",
      "Beatty             | English | English \n",
      "Arrowsmith         | English | Russian ❌\n",
      "Teufel             | German | German \n",
      "Quraishi           | Arabic | Arabic \n",
      "Dalton             | English | English \n",
      "Weiman             | German | German \n",
      "Ashby              | English | English \n",
      "Nakadai            | Japanese | Japanese \n",
      "Kudo               | Japanese | Japanese \n",
      "Kasaya             | Japanese | Japanese \n",
      "Abramchikoff       | Russian | Russian \n",
      "Hakimi             | Arabic | Japanese ❌\n",
      "Masih              | Arabic | Arabic \n",
      "Alam               | English | English \n",
      "Andrushkevich      | Russian | Russian \n",
      "Guerra             | Italian | German ❌\n",
      "Shammas            | Arabic | Arabic \n",
      "Bevan              | English | English \n",
      "Adibekov           | Russian | Russian \n",
      "Hildebrand         | German | German \n"
     ]
    }
   ],
   "source": [
    "# Print a few predictions\n",
    "model.eval()\n",
    "with torch.no_grad():\n",
    "    for X, y in valid_loader:\n",
    "        X = torch.cat([name_to_tensor(name) for name in X])\n",
    "        X = X.reshape(-1, max_name_length)\n",
    "        X, y = X.to(device), y.to(device)\n",
    "        y = y.long()\n",
    "        y_pred = model(X)\n",
    "        _, predicted = torch.max(y_pred.data, 1)\n",
    "        for i in range(min(10, len(X))):\n",
    "            true_label = dataset.idx_to_class[y[i].item()]\n",
    "            predicted_label = dataset.idx_to_class[predicted[i].item()]\n",
    "            is_correct = true_label == predicted_label\n",
    "\n",
    "            print(f\"{tensor_to_name(X[i])} | {true_label} | {predicted_label} {'' if is_correct else '❌'}\")"
   ]
  }
 ],
 "metadata": {
  "kernelspec": {
   "display_name": "Python 3",
   "language": "python",
   "name": "python3"
  },
  "language_info": {
   "codemirror_mode": {
    "name": "ipython",
    "version": 3
   },
   "file_extension": ".py",
   "mimetype": "text/x-python",
   "name": "python",
   "nbconvert_exporter": "python",
   "pygments_lexer": "ipython3",
   "version": "3.11.7"
  }
 },
 "nbformat": 4,
 "nbformat_minor": 2
}
